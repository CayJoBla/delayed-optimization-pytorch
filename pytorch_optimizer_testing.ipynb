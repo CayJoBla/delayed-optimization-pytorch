{
 "cells": [
  {
   "cell_type": "code",
   "execution_count": 2,
   "metadata": {},
   "outputs": [],
   "source": [
    "from delay_optimizer.delays.utils import ParamHistoryBuffer\n",
    "from delay_optimizer.delays.distributions import Stochastic\n",
    "import torch\n",
    "\n",
    "shape = (10,20,30)\n",
    "max_L = 3\n",
    "\n",
    "delay = Stochastic(max_L=max_L)\n",
    "param = torch.rand(shape)\n",
    "buffer = ParamHistoryBuffer(param, buffer_size=max_L)"
   ]
  },
  {
   "cell_type": "code",
   "execution_count": 7,
   "metadata": {},
   "outputs": [
    {
     "name": "stdout",
     "output_type": "stream",
     "text": [
      "54.1 ms ± 2.5 ms per loop (mean ± std. dev. of 7 runs, 10 loops each)\n"
     ]
    }
   ],
   "source": [
    "%%timeit\n",
    "num_iters = 1000\n",
    "for _ in range(num_iters):\n",
    "    new_param = torch.rand(shape)\n",
    "    buffer.update(new_param)"
   ]
  },
  {
   "cell_type": "code",
   "execution_count": 10,
   "metadata": {},
   "outputs": [
    {
     "name": "stdout",
     "output_type": "stream",
     "text": [
      "92.6 ms ± 3.59 ms per loop (mean ± std. dev. of 7 runs, 10 loops each)\n"
     ]
    }
   ],
   "source": [
    "%%timeit\n",
    "num_iters = 1000\n",
    "for i in range(num_iters):\n",
    "    delay.sample(shape, i)"
   ]
  },
  {
   "cell_type": "code",
   "execution_count": 16,
   "metadata": {},
   "outputs": [
    {
     "name": "stdout",
     "output_type": "stream",
     "text": [
      "33.8 ms ± 790 μs per loop (mean ± std. dev. of 7 runs, 10 loops each)\n"
     ]
    }
   ],
   "source": [
    "%%timeit\n",
    "num_iters = 1000\n",
    "max_L = 100\n",
    "temp_buffer = ParamHistoryBuffer(torch.rand(shape), buffer_size=max_L)\n",
    "for i in range(num_iters):\n",
    "    new_param = torch.rand(shape)\n",
    "    temp_buffer.update(new_param)"
   ]
  },
  {
   "cell_type": "code",
   "execution_count": null,
   "metadata": {},
   "outputs": [
    {
     "name": "stdout",
     "output_type": "stream",
     "text": [
      "125 ms ± 25.6 ms per loop (mean ± std. dev. of 7 runs, 1 loop each)\n"
     ]
    }
   ],
   "source": [
    "%%timeit\n",
    "num_iters = 1000\n",
    "max_L = 100\n",
    "temp_buffer = torch.stack([torch.rand(shape).clone().detach() for _ in range(max_L)], dim=0)\n",
    "for i in range(num_iters):\n",
    "    new_param = torch.rand(shape)\n",
    "    full_param_state = torch.cat([new_param.detach().unsqueeze(0), temp_buffer], dim=0)\n",
    "    temp_buffer = full_param_state[:-1]"
   ]
  },
  {
   "cell_type": "code",
   "execution_count": 14,
   "metadata": {},
   "outputs": [
    {
     "name": "stdout",
     "output_type": "stream",
     "text": [
      "122 ms ± 4.36 ms per loop (mean ± std. dev. of 7 runs, 10 loops each)\n"
     ]
    }
   ],
   "source": [
    "%%timeit\n",
    "num_iters = 1000\n",
    "max_L = 3\n",
    "temp_buffer = torch.stack([torch.rand(shape).clone().detach() for _ in range(max_L)], dim=0)\n",
    "delay = Stochastic(max_L=max_L)\n",
    "for i in range(num_iters):\n",
    "    new_param = torch.rand(shape)\n",
    "    full_param_state = torch.cat([new_param.detach().unsqueeze(0), temp_buffer], dim=0)\n",
    "    D = delay.sample(shape, i)\n",
    "    delayed_param = full_param_state.gather(0, D.unsqueeze(0)).squeeze(0)\n",
    "    temp_buffer = full_param_state[:-1]"
   ]
  },
  {
   "cell_type": "code",
   "execution_count": 25,
   "metadata": {},
   "outputs": [
    {
     "name": "stdout",
     "output_type": "stream",
     "text": [
      "15.4 s ± 1.02 s per loop (mean ± std. dev. of 7 runs, 1 loop each)\n"
     ]
    }
   ],
   "source": [
    "%%timeit\n",
    "num_iters = 1000\n",
    "max_L = 3\n",
    "temp_param = torch.rand(shape)  \n",
    "temp_buffer = ParamHistoryBuffer(temp_param, buffer_size=max_L)\n",
    "delay = Stochastic(max_L=max_L)\n",
    "for i in range(num_iters):\n",
    "    new_param = torch.rand(shape)\n",
    "    temp_param, temp_buffer = delay(new_param, temp_buffer, i)"
   ]
  },
  {
   "cell_type": "code",
   "execution_count": 15,
   "metadata": {},
   "outputs": [
    {
     "name": "stdout",
     "output_type": "stream",
     "text": [
      "130 ms ± 391 μs per loop (mean ± std. dev. of 7 runs, 10 loops each)\n"
     ]
    }
   ],
   "source": [
    "%%timeit\n",
    "num_iters = 1000\n",
    "max_L = 3\n",
    "temp_buffer = torch.stack([torch.rand(shape).clone().detach() for _ in range(max_L)], dim=0)\n",
    "delay = Stochastic(max_L=max_L)\n",
    "for i in range(num_iters):\n",
    "    new_param = torch.rand(shape)\n",
    "    full_param_state = torch.stack([new_param.detach()] + list(temp_buffer), dim=0)\n",
    "    D = delay.sample(shape, i)\n",
    "    delayed_param = full_param_state.gather(0, D.unsqueeze(0)).squeeze(0)\n",
    "    temp_buffer = full_param_state[:-1]"
   ]
  },
  {
   "cell_type": "code",
   "execution_count": null,
   "metadata": {},
   "outputs": [],
   "source": []
  },
  {
   "cell_type": "code",
   "execution_count": 1,
   "metadata": {},
   "outputs": [],
   "source": [
    "import torch\n",
    "from torch import nn\n",
    "\n",
    "class SimpleModel(nn.Module):\n",
    "    def __init__(self):\n",
    "        super(SimpleModel, self).__init__()\n",
    "        self.linear = nn.Linear(5, 6)\n",
    "        self.linear.weight.data.fill_(1.0)\n",
    "        self.linear.bias.data.fill_(0.0)\n",
    "    \n",
    "    def forward(self, x):\n",
    "        return self.linear(x)\n",
    "    "
   ]
  },
  {
   "cell_type": "code",
   "execution_count": 2,
   "metadata": {},
   "outputs": [],
   "source": [
    "from delay_optimizer import DelayedOptimizer\n",
    "from torch.optim import Adam\n",
    "\n",
    "model = SimpleModel()\n",
    "optimizer = DelayedOptimizer(model.parameters(), Adam, lr=0.01, delay=1)"
   ]
  },
  {
   "cell_type": "code",
   "execution_count": 3,
   "metadata": {},
   "outputs": [],
   "source": [
    "optimizer.apply_delays()"
   ]
  },
  {
   "cell_type": "code",
   "execution_count": 4,
   "metadata": {},
   "outputs": [],
   "source": [
    "out = model(torch.rand(2,5))\n",
    "loss = torch.abs(out).sum()\n",
    "loss.backward()\n",
    "optimizer.step()"
   ]
  },
  {
   "cell_type": "code",
   "execution_count": 5,
   "metadata": {},
   "outputs": [
    {
     "data": {
      "text/plain": [
       "defaultdict(dict,\n",
       "            {Parameter containing:\n",
       "             tensor([[0.9900, 0.9900, 0.9900, 0.9900, 0.9900],\n",
       "                     [0.9900, 0.9900, 0.9900, 0.9900, 0.9900],\n",
       "                     [0.9900, 0.9900, 0.9900, 0.9900, 0.9900],\n",
       "                     [0.9900, 0.9900, 0.9900, 0.9900, 0.9900],\n",
       "                     [0.9900, 0.9900, 0.9900, 0.9900, 0.9900],\n",
       "                     [0.9900, 0.9900, 0.9900, 0.9900, 0.9900]], requires_grad=True): {'step': tensor(1.),\n",
       "              'exp_avg': tensor([[0.1078, 0.1204, 0.1545, 0.0990, 0.1386],\n",
       "                      [0.1078, 0.1204, 0.1545, 0.0990, 0.1386],\n",
       "                      [0.1078, 0.1204, 0.1545, 0.0990, 0.1386],\n",
       "                      [0.1078, 0.1204, 0.1545, 0.0990, 0.1386],\n",
       "                      [0.1078, 0.1204, 0.1545, 0.0990, 0.1386],\n",
       "                      [0.1078, 0.1204, 0.1545, 0.0990, 0.1386]]),\n",
       "              'exp_avg_sq': tensor([[0.0012, 0.0014, 0.0024, 0.0010, 0.0019],\n",
       "                      [0.0012, 0.0014, 0.0024, 0.0010, 0.0019],\n",
       "                      [0.0012, 0.0014, 0.0024, 0.0010, 0.0019],\n",
       "                      [0.0012, 0.0014, 0.0024, 0.0010, 0.0019],\n",
       "                      [0.0012, 0.0014, 0.0024, 0.0010, 0.0019],\n",
       "                      [0.0012, 0.0014, 0.0024, 0.0010, 0.0019]])},\n",
       "             Parameter containing:\n",
       "             tensor([-0.0100, -0.0100, -0.0100, -0.0100, -0.0100, -0.0100],\n",
       "                    requires_grad=True): {'step': tensor(1.),\n",
       "              'exp_avg': tensor([0.2000, 0.2000, 0.2000, 0.2000, 0.2000, 0.2000]),\n",
       "              'exp_avg_sq': tensor([0.0040, 0.0040, 0.0040, 0.0040, 0.0040, 0.0040])}})"
      ]
     },
     "execution_count": 5,
     "metadata": {},
     "output_type": "execute_result"
    }
   ],
   "source": [
    "optimizer.state"
   ]
  },
  {
   "cell_type": "code",
   "execution_count": null,
   "metadata": {},
   "outputs": [],
   "source": []
  }
 ],
 "metadata": {
  "kernelspec": {
   "display_name": "delayed_opt_pt",
   "language": "python",
   "name": "python3"
  },
  "language_info": {
   "codemirror_mode": {
    "name": "ipython",
    "version": 3
   },
   "file_extension": ".py",
   "mimetype": "text/x-python",
   "name": "python",
   "nbconvert_exporter": "python",
   "pygments_lexer": "ipython3",
   "version": "3.12.5"
  }
 },
 "nbformat": 4,
 "nbformat_minor": 2
}
